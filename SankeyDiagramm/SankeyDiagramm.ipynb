{
 "cells": [
  {
   "cell_type": "code",
   "execution_count": 128,
   "id": "cb23dabb-dabd-43d6-8511-138693a64aca",
   "metadata": {},
   "outputs": [],
   "source": [
    "import plotly.graph_objects as go\n",
    "import numpy as np\n",
    "import chart_studio"
   ]
  },
  {
   "cell_type": "code",
   "execution_count": 132,
   "id": "c60738f3-a94b-4551-b0ec-042ec5faa491",
   "metadata": {},
   "outputs": [
    {
     "data": {
      "application/vnd.plotly.v1+json": {
       "config": {
        "plotlyServerURL": "https://plot.ly"
       },
       "data": [
        {
         "link": {
          "color": [
           "#d51961",
           "#9acd32",
           "#f25918",
           "#bf1657",
           "#d92f70",
           "#7f0f3a",
           "#8ab82d",
           "#a4d246",
           "#d95015",
           "#f3692f",
           "#c52d67",
           "#cb4478",
           "#d25b89",
           "#d8739a",
           "#dc437e",
           "#e0588c",
           "#e46d9a",
           "#e882a9",
           "#8b264d",
           "#983e61",
           "#a55775",
           "#b26f88",
           "#bf879c",
           "#95bf42",
           "#add658",
           "#dc612c",
           "#e07243",
           "#f47843",
           "#f58758",
           "#f6966d",
           "#f7a582",
           "#f9b497",
           "#9fc554",
           "#aacb67",
           "#b4d27a",
           "#bfd88d",
           "#b5da68",
           "#bdde79",
           "#c5e28a",
           "#cde69a"
          ],
          "source": [
           0,
           0,
           0,
           1,
           1,
           1,
           2,
           2,
           3,
           3,
           4,
           4,
           4,
           4,
           5,
           5,
           5,
           5,
           6,
           6,
           6,
           6,
           6,
           7,
           8,
           9,
           9,
           10,
           10,
           10,
           10,
           10,
           24,
           24,
           24,
           24,
           25,
           25,
           25,
           25
          ],
          "target": [
           1,
           2,
           3,
           4,
           5,
           6,
           7,
           8,
           9,
           10,
           11,
           12,
           13,
           14,
           15,
           16,
           17,
           18,
           19,
           20,
           21,
           22,
           23,
           24,
           25,
           26,
           27,
           28,
           29,
           30,
           31,
           32,
           33,
           34,
           35,
           36,
           37,
           38,
           39,
           40
          ],
          "value": [
           26,
           16,
           16,
           8,
           8,
           10,
           8,
           8,
           6,
           10,
           2,
           2,
           2,
           2,
           3,
           2,
           2,
           2,
           2,
           2,
           2,
           2,
           2,
           8,
           8,
           4,
           2,
           2,
           2,
           2,
           2,
           2,
           2,
           2,
           2,
           2,
           2,
           2,
           2,
           2,
           2,
           2
          ]
         },
         "node": {
          "color": [
           "#d51961",
           "#9acd32",
           "#f25918",
           "#bf1657",
           "#d92f70",
           "#7f0f3a",
           "#8ab82d",
           "#a4d246",
           "#d95015",
           "#f3692f",
           "#c52d67",
           "#cb4478",
           "#d25b89",
           "#d8739a",
           "#dc437e",
           "#e0588c",
           "#e46d9a",
           "#e882a9",
           "#8b264d",
           "#983e61",
           "#a55775",
           "#b26f88",
           "#bf879c",
           "#95bf42",
           "#add658",
           "#dc612c",
           "#e07243",
           "#f47843",
           "#f58758",
           "#f6966d",
           "#f7a582",
           "#f9b497",
           "#9fc554",
           "#aacb67",
           "#b4d27a",
           "#bfd88d",
           "#b5da68",
           "#bdde79",
           "#c5e28a",
           "#cde69a"
          ],
          "label": [
           "Leonie Master Student Geoinformatics",
           "Skills",
           "Experience",
           "Education",
           "Expertise",
           "Programming Languages",
           "Tools",
           "swa Netze GmbH",
           "dlr e.V.",
           "M.Sc.",
           "B.Sc.",
           "Data Visualization",
           "Data Analysis",
           "Geospatial Data",
           "Time Series",
           "Python",
           "R",
           "Java",
           "C",
           "ArcGIS",
           "QGIS",
           "RIWA GIS",
           "AutoCAD",
           "MS Office",
           "Working Student",
           "Intern",
           "Geodata analysis",
           "ABM",
           "Geoinformatics",
           "Computer Science",
           "Geography",
           "GIS",
           "Remote Sensing",
           "Digitization and vectorization",
           "GIS migration process",
           "cadastral plan",
           "Electricity documentation",
           "Processing optical satellite data in GIS",
           "Python vehicle speeds",
           "data extraction",
           "Annotation optical satellite image data"
          ],
          "line": {
           "color": "black",
           "width": 0.5
          },
          "pad": 15,
          "thickness": 15
         },
         "type": "sankey"
        }
       ],
       "layout": {
        "autosize": true,
        "template": {
         "data": {
          "bar": [
           {
            "error_x": {
             "color": "#2a3f5f"
            },
            "error_y": {
             "color": "#2a3f5f"
            },
            "marker": {
             "line": {
              "color": "#E5ECF6",
              "width": 0.5
             },
             "pattern": {
              "fillmode": "overlay",
              "size": 10,
              "solidity": 0.2
             }
            },
            "type": "bar"
           }
          ],
          "barpolar": [
           {
            "marker": {
             "line": {
              "color": "#E5ECF6",
              "width": 0.5
             },
             "pattern": {
              "fillmode": "overlay",
              "size": 10,
              "solidity": 0.2
             }
            },
            "type": "barpolar"
           }
          ],
          "carpet": [
           {
            "aaxis": {
             "endlinecolor": "#2a3f5f",
             "gridcolor": "white",
             "linecolor": "white",
             "minorgridcolor": "white",
             "startlinecolor": "#2a3f5f"
            },
            "baxis": {
             "endlinecolor": "#2a3f5f",
             "gridcolor": "white",
             "linecolor": "white",
             "minorgridcolor": "white",
             "startlinecolor": "#2a3f5f"
            },
            "type": "carpet"
           }
          ],
          "choropleth": [
           {
            "colorbar": {
             "outlinewidth": 0,
             "ticks": ""
            },
            "type": "choropleth"
           }
          ],
          "contour": [
           {
            "colorbar": {
             "outlinewidth": 0,
             "ticks": ""
            },
            "colorscale": [
             [
              0,
              "#0d0887"
             ],
             [
              0.1111111111111111,
              "#46039f"
             ],
             [
              0.2222222222222222,
              "#7201a8"
             ],
             [
              0.3333333333333333,
              "#9c179e"
             ],
             [
              0.4444444444444444,
              "#bd3786"
             ],
             [
              0.5555555555555556,
              "#d8576b"
             ],
             [
              0.6666666666666666,
              "#ed7953"
             ],
             [
              0.7777777777777778,
              "#fb9f3a"
             ],
             [
              0.8888888888888888,
              "#fdca26"
             ],
             [
              1,
              "#f0f921"
             ]
            ],
            "type": "contour"
           }
          ],
          "contourcarpet": [
           {
            "colorbar": {
             "outlinewidth": 0,
             "ticks": ""
            },
            "type": "contourcarpet"
           }
          ],
          "heatmap": [
           {
            "colorbar": {
             "outlinewidth": 0,
             "ticks": ""
            },
            "colorscale": [
             [
              0,
              "#0d0887"
             ],
             [
              0.1111111111111111,
              "#46039f"
             ],
             [
              0.2222222222222222,
              "#7201a8"
             ],
             [
              0.3333333333333333,
              "#9c179e"
             ],
             [
              0.4444444444444444,
              "#bd3786"
             ],
             [
              0.5555555555555556,
              "#d8576b"
             ],
             [
              0.6666666666666666,
              "#ed7953"
             ],
             [
              0.7777777777777778,
              "#fb9f3a"
             ],
             [
              0.8888888888888888,
              "#fdca26"
             ],
             [
              1,
              "#f0f921"
             ]
            ],
            "type": "heatmap"
           }
          ],
          "heatmapgl": [
           {
            "colorbar": {
             "outlinewidth": 0,
             "ticks": ""
            },
            "colorscale": [
             [
              0,
              "#0d0887"
             ],
             [
              0.1111111111111111,
              "#46039f"
             ],
             [
              0.2222222222222222,
              "#7201a8"
             ],
             [
              0.3333333333333333,
              "#9c179e"
             ],
             [
              0.4444444444444444,
              "#bd3786"
             ],
             [
              0.5555555555555556,
              "#d8576b"
             ],
             [
              0.6666666666666666,
              "#ed7953"
             ],
             [
              0.7777777777777778,
              "#fb9f3a"
             ],
             [
              0.8888888888888888,
              "#fdca26"
             ],
             [
              1,
              "#f0f921"
             ]
            ],
            "type": "heatmapgl"
           }
          ],
          "histogram": [
           {
            "marker": {
             "pattern": {
              "fillmode": "overlay",
              "size": 10,
              "solidity": 0.2
             }
            },
            "type": "histogram"
           }
          ],
          "histogram2d": [
           {
            "colorbar": {
             "outlinewidth": 0,
             "ticks": ""
            },
            "colorscale": [
             [
              0,
              "#0d0887"
             ],
             [
              0.1111111111111111,
              "#46039f"
             ],
             [
              0.2222222222222222,
              "#7201a8"
             ],
             [
              0.3333333333333333,
              "#9c179e"
             ],
             [
              0.4444444444444444,
              "#bd3786"
             ],
             [
              0.5555555555555556,
              "#d8576b"
             ],
             [
              0.6666666666666666,
              "#ed7953"
             ],
             [
              0.7777777777777778,
              "#fb9f3a"
             ],
             [
              0.8888888888888888,
              "#fdca26"
             ],
             [
              1,
              "#f0f921"
             ]
            ],
            "type": "histogram2d"
           }
          ],
          "histogram2dcontour": [
           {
            "colorbar": {
             "outlinewidth": 0,
             "ticks": ""
            },
            "colorscale": [
             [
              0,
              "#0d0887"
             ],
             [
              0.1111111111111111,
              "#46039f"
             ],
             [
              0.2222222222222222,
              "#7201a8"
             ],
             [
              0.3333333333333333,
              "#9c179e"
             ],
             [
              0.4444444444444444,
              "#bd3786"
             ],
             [
              0.5555555555555556,
              "#d8576b"
             ],
             [
              0.6666666666666666,
              "#ed7953"
             ],
             [
              0.7777777777777778,
              "#fb9f3a"
             ],
             [
              0.8888888888888888,
              "#fdca26"
             ],
             [
              1,
              "#f0f921"
             ]
            ],
            "type": "histogram2dcontour"
           }
          ],
          "mesh3d": [
           {
            "colorbar": {
             "outlinewidth": 0,
             "ticks": ""
            },
            "type": "mesh3d"
           }
          ],
          "parcoords": [
           {
            "line": {
             "colorbar": {
              "outlinewidth": 0,
              "ticks": ""
             }
            },
            "type": "parcoords"
           }
          ],
          "pie": [
           {
            "automargin": true,
            "type": "pie"
           }
          ],
          "scatter": [
           {
            "fillpattern": {
             "fillmode": "overlay",
             "size": 10,
             "solidity": 0.2
            },
            "type": "scatter"
           }
          ],
          "scatter3d": [
           {
            "line": {
             "colorbar": {
              "outlinewidth": 0,
              "ticks": ""
             }
            },
            "marker": {
             "colorbar": {
              "outlinewidth": 0,
              "ticks": ""
             }
            },
            "type": "scatter3d"
           }
          ],
          "scattercarpet": [
           {
            "marker": {
             "colorbar": {
              "outlinewidth": 0,
              "ticks": ""
             }
            },
            "type": "scattercarpet"
           }
          ],
          "scattergeo": [
           {
            "marker": {
             "colorbar": {
              "outlinewidth": 0,
              "ticks": ""
             }
            },
            "type": "scattergeo"
           }
          ],
          "scattergl": [
           {
            "marker": {
             "colorbar": {
              "outlinewidth": 0,
              "ticks": ""
             }
            },
            "type": "scattergl"
           }
          ],
          "scattermapbox": [
           {
            "marker": {
             "colorbar": {
              "outlinewidth": 0,
              "ticks": ""
             }
            },
            "type": "scattermapbox"
           }
          ],
          "scatterpolar": [
           {
            "marker": {
             "colorbar": {
              "outlinewidth": 0,
              "ticks": ""
             }
            },
            "type": "scatterpolar"
           }
          ],
          "scatterpolargl": [
           {
            "marker": {
             "colorbar": {
              "outlinewidth": 0,
              "ticks": ""
             }
            },
            "type": "scatterpolargl"
           }
          ],
          "scatterternary": [
           {
            "marker": {
             "colorbar": {
              "outlinewidth": 0,
              "ticks": ""
             }
            },
            "type": "scatterternary"
           }
          ],
          "surface": [
           {
            "colorbar": {
             "outlinewidth": 0,
             "ticks": ""
            },
            "colorscale": [
             [
              0,
              "#0d0887"
             ],
             [
              0.1111111111111111,
              "#46039f"
             ],
             [
              0.2222222222222222,
              "#7201a8"
             ],
             [
              0.3333333333333333,
              "#9c179e"
             ],
             [
              0.4444444444444444,
              "#bd3786"
             ],
             [
              0.5555555555555556,
              "#d8576b"
             ],
             [
              0.6666666666666666,
              "#ed7953"
             ],
             [
              0.7777777777777778,
              "#fb9f3a"
             ],
             [
              0.8888888888888888,
              "#fdca26"
             ],
             [
              1,
              "#f0f921"
             ]
            ],
            "type": "surface"
           }
          ],
          "table": [
           {
            "cells": {
             "fill": {
              "color": "#EBF0F8"
             },
             "line": {
              "color": "white"
             }
            },
            "header": {
             "fill": {
              "color": "#C8D4E3"
             },
             "line": {
              "color": "white"
             }
            },
            "type": "table"
           }
          ]
         },
         "layout": {
          "annotationdefaults": {
           "arrowcolor": "#2a3f5f",
           "arrowhead": 0,
           "arrowwidth": 1
          },
          "autotypenumbers": "strict",
          "coloraxis": {
           "colorbar": {
            "outlinewidth": 0,
            "ticks": ""
           }
          },
          "colorscale": {
           "diverging": [
            [
             0,
             "#8e0152"
            ],
            [
             0.1,
             "#c51b7d"
            ],
            [
             0.2,
             "#de77ae"
            ],
            [
             0.3,
             "#f1b6da"
            ],
            [
             0.4,
             "#fde0ef"
            ],
            [
             0.5,
             "#f7f7f7"
            ],
            [
             0.6,
             "#e6f5d0"
            ],
            [
             0.7,
             "#b8e186"
            ],
            [
             0.8,
             "#7fbc41"
            ],
            [
             0.9,
             "#4d9221"
            ],
            [
             1,
             "#276419"
            ]
           ],
           "sequential": [
            [
             0,
             "#0d0887"
            ],
            [
             0.1111111111111111,
             "#46039f"
            ],
            [
             0.2222222222222222,
             "#7201a8"
            ],
            [
             0.3333333333333333,
             "#9c179e"
            ],
            [
             0.4444444444444444,
             "#bd3786"
            ],
            [
             0.5555555555555556,
             "#d8576b"
            ],
            [
             0.6666666666666666,
             "#ed7953"
            ],
            [
             0.7777777777777778,
             "#fb9f3a"
            ],
            [
             0.8888888888888888,
             "#fdca26"
            ],
            [
             1,
             "#f0f921"
            ]
           ],
           "sequentialminus": [
            [
             0,
             "#0d0887"
            ],
            [
             0.1111111111111111,
             "#46039f"
            ],
            [
             0.2222222222222222,
             "#7201a8"
            ],
            [
             0.3333333333333333,
             "#9c179e"
            ],
            [
             0.4444444444444444,
             "#bd3786"
            ],
            [
             0.5555555555555556,
             "#d8576b"
            ],
            [
             0.6666666666666666,
             "#ed7953"
            ],
            [
             0.7777777777777778,
             "#fb9f3a"
            ],
            [
             0.8888888888888888,
             "#fdca26"
            ],
            [
             1,
             "#f0f921"
            ]
           ]
          },
          "colorway": [
           "#636efa",
           "#EF553B",
           "#00cc96",
           "#ab63fa",
           "#FFA15A",
           "#19d3f3",
           "#FF6692",
           "#B6E880",
           "#FF97FF",
           "#FECB52"
          ],
          "font": {
           "color": "#2a3f5f"
          },
          "geo": {
           "bgcolor": "white",
           "lakecolor": "white",
           "landcolor": "#E5ECF6",
           "showlakes": true,
           "showland": true,
           "subunitcolor": "white"
          },
          "hoverlabel": {
           "align": "left"
          },
          "hovermode": "closest",
          "mapbox": {
           "style": "light"
          },
          "paper_bgcolor": "white",
          "plot_bgcolor": "#E5ECF6",
          "polar": {
           "angularaxis": {
            "gridcolor": "white",
            "linecolor": "white",
            "ticks": ""
           },
           "bgcolor": "#E5ECF6",
           "radialaxis": {
            "gridcolor": "white",
            "linecolor": "white",
            "ticks": ""
           }
          },
          "scene": {
           "xaxis": {
            "backgroundcolor": "#E5ECF6",
            "gridcolor": "white",
            "gridwidth": 2,
            "linecolor": "white",
            "showbackground": true,
            "ticks": "",
            "zerolinecolor": "white"
           },
           "yaxis": {
            "backgroundcolor": "#E5ECF6",
            "gridcolor": "white",
            "gridwidth": 2,
            "linecolor": "white",
            "showbackground": true,
            "ticks": "",
            "zerolinecolor": "white"
           },
           "zaxis": {
            "backgroundcolor": "#E5ECF6",
            "gridcolor": "white",
            "gridwidth": 2,
            "linecolor": "white",
            "showbackground": true,
            "ticks": "",
            "zerolinecolor": "white"
           }
          },
          "shapedefaults": {
           "line": {
            "color": "#2a3f5f"
           }
          },
          "ternary": {
           "aaxis": {
            "gridcolor": "white",
            "linecolor": "white",
            "ticks": ""
           },
           "baxis": {
            "gridcolor": "white",
            "linecolor": "white",
            "ticks": ""
           },
           "bgcolor": "#E5ECF6",
           "caxis": {
            "gridcolor": "white",
            "linecolor": "white",
            "ticks": ""
           }
          },
          "title": {
           "x": 0.05
          },
          "xaxis": {
           "automargin": true,
           "gridcolor": "white",
           "linecolor": "white",
           "ticks": "",
           "title": {
            "standoff": 15
           },
           "zerolinecolor": "white",
           "zerolinewidth": 2
          },
          "yaxis": {
           "automargin": true,
           "gridcolor": "white",
           "linecolor": "white",
           "ticks": "",
           "title": {
            "standoff": 15
           },
           "zerolinecolor": "white",
           "zerolinewidth": 2
          }
         }
        }
       }
      },
      "image/png": "[encoded data removed]",
      "text/html": [
       "<div>                            <div id=\"e1a48725-79ac-4298-8215-bd061ff47b93\" class=\"plotly-graph-div\" style=\"height:525px; width:100%;\"></div>            <script type=\"text/javascript\">                require([\"plotly\"], function(Plotly) {                    window.PLOTLYENV=window.PLOTLYENV || {};                                    if (document.getElementById(\"e1a48725-79ac-4298-8215-bd061ff47b93\")) {                    Plotly.newPlot(                        \"e1a48725-79ac-4298-8215-bd061ff47b93\",                        [{\"link\":{\"color\":[\"#d51961\",\"#9acd32\",\"#f25918\",\"#bf1657\",\"#d92f70\",\"#7f0f3a\",\"#8ab82d\",\"#a4d246\",\"#d95015\",\"#f3692f\",\"#c52d67\",\"#cb4478\",\"#d25b89\",\"#d8739a\",\"#dc437e\",\"#e0588c\",\"#e46d9a\",\"#e882a9\",\"#8b264d\",\"#983e61\",\"#a55775\",\"#b26f88\",\"#bf879c\",\"#95bf42\",\"#add658\",\"#dc612c\",\"#e07243\",\"#f47843\",\"#f58758\",\"#f6966d\",\"#f7a582\",\"#f9b497\",\"#9fc554\",\"#aacb67\",\"#b4d27a\",\"#bfd88d\",\"#b5da68\",\"#bdde79\",\"#c5e28a\",\"#cde69a\"],\"source\":[0,0,0,1,1,1,2,2,3,3,4,4,4,4,5,5,5,5,6,6,6,6,6,7,8,9,9,10,10,10,10,10,24,24,24,24,25,25,25,25],\"target\":[1,2,3,4,5,6,7,8,9,10,11,12,13,14,15,16,17,18,19,20,21,22,23,24,25,26,27,28,29,30,31,32,33,34,35,36,37,38,39,40],\"value\":[26,16,16,8,8,10,8,8,6,10,2,2,2,2,3,2,2,2,2,2,2,2,2,8,8,4,2,2,2,2,2,2,2,2,2,2,2,2,2,2,2,2]},\"node\":{\"color\":[\"#d51961\",\"#9acd32\",\"#f25918\",\"#bf1657\",\"#d92f70\",\"#7f0f3a\",\"#8ab82d\",\"#a4d246\",\"#d95015\",\"#f3692f\",\"#c52d67\",\"#cb4478\",\"#d25b89\",\"#d8739a\",\"#dc437e\",\"#e0588c\",\"#e46d9a\",\"#e882a9\",\"#8b264d\",\"#983e61\",\"#a55775\",\"#b26f88\",\"#bf879c\",\"#95bf42\",\"#add658\",\"#dc612c\",\"#e07243\",\"#f47843\",\"#f58758\",\"#f6966d\",\"#f7a582\",\"#f9b497\",\"#9fc554\",\"#aacb67\",\"#b4d27a\",\"#bfd88d\",\"#b5da68\",\"#bdde79\",\"#c5e28a\",\"#cde69a\"],\"label\":[\"Leonie Master Student Geoinformatics\",\"Skills\",\"Experience\",\"Education\",\"Expertise\",\"Programming Languages\",\"Tools\",\"swa Netze GmbH\",\"dlr e.V.\",\"M.Sc.\",\"B.Sc.\",\"Data Visualization\",\"Data Analysis\",\"Geospatial Data\",\"Time Series\",\"Python\",\"R\",\"Java\",\"C\",\"ArcGIS\",\"QGIS\",\"RIWA GIS\",\"AutoCAD\",\"MS Office\",\"Working Student\",\"Intern\",\"Geodata analysis\",\"ABM\",\"Geoinformatics\",\"Computer Science\",\"Geography\",\"GIS\",\"Remote Sensing\",\"Digitization and vectorization\",\"GIS migration process\",\"cadastral plan\",\"Electricity documentation\",\"Processing optical satellite data in GIS\",\"Python vehicle speeds\",\"data extraction\",\"Annotation optical satellite image data\"],\"line\":{\"color\":\"black\",\"width\":0.5},\"pad\":15,\"thickness\":15},\"type\":\"sankey\"}],                        {\"template\":{\"data\":{\"histogram2dcontour\":[{\"type\":\"histogram2dcontour\",\"colorbar\":{\"outlinewidth\":0,\"ticks\":\"\"},\"colorscale\":[[0.0,\"#0d0887\"],[0.1111111111111111,\"#46039f\"],[0.2222222222222222,\"#7201a8\"],[0.3333333333333333,\"#9c179e\"],[0.4444444444444444,\"#bd3786\"],[0.5555555555555556,\"#d8576b\"],[0.6666666666666666,\"#ed7953\"],[0.7777777777777778,\"#fb9f3a\"],[0.8888888888888888,\"#fdca26\"],[1.0,\"#f0f921\"]]}],\"choropleth\":[{\"type\":\"choropleth\",\"colorbar\":{\"outlinewidth\":0,\"ticks\":\"\"}}],\"histogram2d\":[{\"type\":\"histogram2d\",\"colorbar\":{\"outlinewidth\":0,\"ticks\":\"\"},\"colorscale\":[[0.0,\"#0d0887\"],[0.1111111111111111,\"#46039f\"],[0.2222222222222222,\"#7201a8\"],[0.3333333333333333,\"#9c179e\"],[0.4444444444444444,\"#bd3786\"],[0.5555555555555556,\"#d8576b\"],[0.6666666666666666,\"#ed7953\"],[0.7777777777777778,\"#fb9f3a\"],[0.8888888888888888,\"#fdca26\"],[1.0,\"#f0f921\"]]}],\"heatmap\":[{\"type\":\"heatmap\",\"colorbar\":{\"outlinewidth\":0,\"ticks\":\"\"},\"colorscale\":[[0.0,\"#0d0887\"],[0.1111111111111111,\"#46039f\"],[0.2222222222222222,\"#7201a8\"],[0.3333333333333333,\"#9c179e\"],[0.4444444444444444,\"#bd3786\"],[0.5555555555555556,\"#d8576b\"],[0.6666666666666666,\"#ed7953\"],[0.7777777777777778,\"#fb9f3a\"],[0.8888888888888888,\"#fdca26\"],[1.0,\"#f0f921\"]]}],\"heatmapgl\":[{\"type\":\"heatmapgl\",\"colorbar\":{\"outlinewidth\":0,\"ticks\":\"\"},\"colorscale\":[[0.0,\"#0d0887\"],[0.1111111111111111,\"#46039f\"],[0.2222222222222222,\"#7201a8\"],[0.3333333333333333,\"#9c179e\"],[0.4444444444444444,\"#bd3786\"],[0.5555555555555556,\"#d8576b\"],[0.6666666666666666,\"#ed7953\"],[0.7777777777777778,\"#fb9f3a\"],[0.8888888888888888,\"#fdca26\"],[1.0,\"#f0f921\"]]}],\"contourcarpet\":[{\"type\":\"contourcarpet\",\"colorbar\":{\"outlinewidth\":0,\"ticks\":\"\"}}],\"contour\":[{\"type\":\"contour\",\"colorbar\":{\"outlinewidth\":0,\"ticks\":\"\"},\"colorscale\":[[0.0,\"#0d0887\"],[0.1111111111111111,\"#46039f\"],[0.2222222222222222,\"#7201a8\"],[0.3333333333333333,\"#9c179e\"],[0.4444444444444444,\"#bd3786\"],[0.5555555555555556,\"#d8576b\"],[0.6666666666666666,\"#ed7953\"],[0.7777777777777778,\"#fb9f3a\"],[0.8888888888888888,\"#fdca26\"],[1.0,\"#f0f921\"]]}],\"surface\":[{\"type\":\"surface\",\"colorbar\":{\"outlinewidth\":0,\"ticks\":\"\"},\"colorscale\":[[0.0,\"#0d0887\"],[0.1111111111111111,\"#46039f\"],[0.2222222222222222,\"#7201a8\"],[0.3333333333333333,\"#9c179e\"],[0.4444444444444444,\"#bd3786\"],[0.5555555555555556,\"#d8576b\"],[0.6666666666666666,\"#ed7953\"],[0.7777777777777778,\"#fb9f3a\"],[0.8888888888888888,\"#fdca26\"],[1.0,\"#f0f921\"]]}],\"mesh3d\":[{\"type\":\"mesh3d\",\"colorbar\":{\"outlinewidth\":0,\"ticks\":\"\"}}],\"scatter\":[{\"fillpattern\":{\"fillmode\":\"overlay\",\"size\":10,\"solidity\":0.2},\"type\":\"scatter\"}],\"parcoords\":[{\"type\":\"parcoords\",\"line\":{\"colorbar\":{\"outlinewidth\":0,\"ticks\":\"\"}}}],\"scatterpolargl\":[{\"type\":\"scatterpolargl\",\"marker\":{\"colorbar\":{\"outlinewidth\":0,\"ticks\":\"\"}}}],\"bar\":[{\"error_x\":{\"color\":\"#2a3f5f\"},\"error_y\":{\"color\":\"#2a3f5f\"},\"marker\":{\"line\":{\"color\":\"#E5ECF6\",\"width\":0.5},\"pattern\":{\"fillmode\":\"overlay\",\"size\":10,\"solidity\":0.2}},\"type\":\"bar\"}],\"scattergeo\":[{\"type\":\"scattergeo\",\"marker\":{\"colorbar\":{\"outlinewidth\":0,\"ticks\":\"\"}}}],\"scatterpolar\":[{\"type\":\"scatterpolar\",\"marker\":{\"colorbar\":{\"outlinewidth\":0,\"ticks\":\"\"}}}],\"histogram\":[{\"marker\":{\"pattern\":{\"fillmode\":\"overlay\",\"size\":10,\"solidity\":0.2}},\"type\":\"histogram\"}],\"scattergl\":[{\"type\":\"scattergl\",\"marker\":{\"colorbar\":{\"outlinewidth\":0,\"ticks\":\"\"}}}],\"scatter3d\":[{\"type\":\"scatter3d\",\"line\":{\"colorbar\":{\"outlinewidth\":0,\"ticks\":\"\"}},\"marker\":{\"colorbar\":{\"outlinewidth\":0,\"ticks\":\"\"}}}],\"scattermapbox\":[{\"type\":\"scattermapbox\",\"marker\":{\"colorbar\":{\"outlinewidth\":0,\"ticks\":\"\"}}}],\"scatterternary\":[{\"type\":\"scatterternary\",\"marker\":{\"colorbar\":{\"outlinewidth\":0,\"ticks\":\"\"}}}],\"scattercarpet\":[{\"type\":\"scattercarpet\",\"marker\":{\"colorbar\":{\"outlinewidth\":0,\"ticks\":\"\"}}}],\"carpet\":[{\"aaxis\":{\"endlinecolor\":\"#2a3f5f\",\"gridcolor\":\"white\",\"linecolor\":\"white\",\"minorgridcolor\":\"white\",\"startlinecolor\":\"#2a3f5f\"},\"baxis\":{\"endlinecolor\":\"#2a3f5f\",\"gridcolor\":\"white\",\"linecolor\":\"white\",\"minorgridcolor\":\"white\",\"startlinecolor\":\"#2a3f5f\"},\"type\":\"carpet\"}],\"table\":[{\"cells\":{\"fill\":{\"color\":\"#EBF0F8\"},\"line\":{\"color\":\"white\"}},\"header\":{\"fill\":{\"color\":\"#C8D4E3\"},\"line\":{\"color\":\"white\"}},\"type\":\"table\"}],\"barpolar\":[{\"marker\":{\"line\":{\"color\":\"#E5ECF6\",\"width\":0.5},\"pattern\":{\"fillmode\":\"overlay\",\"size\":10,\"solidity\":0.2}},\"type\":\"barpolar\"}],\"pie\":[{\"automargin\":true,\"type\":\"pie\"}]},\"layout\":{\"autotypenumbers\":\"strict\",\"colorway\":[\"#636efa\",\"#EF553B\",\"#00cc96\",\"#ab63fa\",\"#FFA15A\",\"#19d3f3\",\"#FF6692\",\"#B6E880\",\"#FF97FF\",\"#FECB52\"],\"font\":{\"color\":\"#2a3f5f\"},\"hovermode\":\"closest\",\"hoverlabel\":{\"align\":\"left\"},\"paper_bgcolor\":\"white\",\"plot_bgcolor\":\"#E5ECF6\",\"polar\":{\"bgcolor\":\"#E5ECF6\",\"angularaxis\":{\"gridcolor\":\"white\",\"linecolor\":\"white\",\"ticks\":\"\"},\"radialaxis\":{\"gridcolor\":\"white\",\"linecolor\":\"white\",\"ticks\":\"\"}},\"ternary\":{\"bgcolor\":\"#E5ECF6\",\"aaxis\":{\"gridcolor\":\"white\",\"linecolor\":\"white\",\"ticks\":\"\"},\"baxis\":{\"gridcolor\":\"white\",\"linecolor\":\"white\",\"ticks\":\"\"},\"caxis\":{\"gridcolor\":\"white\",\"linecolor\":\"white\",\"ticks\":\"\"}},\"coloraxis\":{\"colorbar\":{\"outlinewidth\":0,\"ticks\":\"\"}},\"colorscale\":{\"sequential\":[[0.0,\"#0d0887\"],[0.1111111111111111,\"#46039f\"],[0.2222222222222222,\"#7201a8\"],[0.3333333333333333,\"#9c179e\"],[0.4444444444444444,\"#bd3786\"],[0.5555555555555556,\"#d8576b\"],[0.6666666666666666,\"#ed7953\"],[0.7777777777777778,\"#fb9f3a\"],[0.8888888888888888,\"#fdca26\"],[1.0,\"#f0f921\"]],\"sequentialminus\":[[0.0,\"#0d0887\"],[0.1111111111111111,\"#46039f\"],[0.2222222222222222,\"#7201a8\"],[0.3333333333333333,\"#9c179e\"],[0.4444444444444444,\"#bd3786\"],[0.5555555555555556,\"#d8576b\"],[0.6666666666666666,\"#ed7953\"],[0.7777777777777778,\"#fb9f3a\"],[0.8888888888888888,\"#fdca26\"],[1.0,\"#f0f921\"]],\"diverging\":[[0,\"#8e0152\"],[0.1,\"#c51b7d\"],[0.2,\"#de77ae\"],[0.3,\"#f1b6da\"],[0.4,\"#fde0ef\"],[0.5,\"#f7f7f7\"],[0.6,\"#e6f5d0\"],[0.7,\"#b8e186\"],[0.8,\"#7fbc41\"],[0.9,\"#4d9221\"],[1,\"#276419\"]]},\"xaxis\":{\"gridcolor\":\"white\",\"linecolor\":\"white\",\"ticks\":\"\",\"title\":{\"standoff\":15},\"zerolinecolor\":\"white\",\"automargin\":true,\"zerolinewidth\":2},\"yaxis\":{\"gridcolor\":\"white\",\"linecolor\":\"white\",\"ticks\":\"\",\"title\":{\"standoff\":15},\"zerolinecolor\":\"white\",\"automargin\":true,\"zerolinewidth\":2},\"scene\":{\"xaxis\":{\"backgroundcolor\":\"#E5ECF6\",\"gridcolor\":\"white\",\"linecolor\":\"white\",\"showbackground\":true,\"ticks\":\"\",\"zerolinecolor\":\"white\",\"gridwidth\":2},\"yaxis\":{\"backgroundcolor\":\"#E5ECF6\",\"gridcolor\":\"white\",\"linecolor\":\"white\",\"showbackground\":true,\"ticks\":\"\",\"zerolinecolor\":\"white\",\"gridwidth\":2},\"zaxis\":{\"backgroundcolor\":\"#E5ECF6\",\"gridcolor\":\"white\",\"linecolor\":\"white\",\"showbackground\":true,\"ticks\":\"\",\"zerolinecolor\":\"white\",\"gridwidth\":2}},\"shapedefaults\":{\"line\":{\"color\":\"#2a3f5f\"}},\"annotationdefaults\":{\"arrowcolor\":\"#2a3f5f\",\"arrowhead\":0,\"arrowwidth\":1},\"geo\":{\"bgcolor\":\"white\",\"landcolor\":\"#E5ECF6\",\"subunitcolor\":\"white\",\"showland\":true,\"showlakes\":true,\"lakecolor\":\"white\"},\"title\":{\"x\":0.05},\"mapbox\":{\"style\":\"light\"}}}},                        {\"responsive\": true}                    ).then(function(){\n",
       "                            \n",
       "var gd = document.getElementById('e1a48725-79ac-4298-8215-bd061ff47b93');\n",
       "var x = new MutationObserver(function (mutations, observer) {{\n",
       "        var display = window.getComputedStyle(gd).display;\n",
       "        if (!display || display === 'none') {{\n",
       "            console.log([gd, 'removed!']);\n",
       "            Plotly.purge(gd);\n",
       "            observer.disconnect();\n",
       "        }}\n",
       "}});\n",
       "\n",
       "// Listen for the removal of the full notebook cells\n",
       "var notebookContainer = gd.closest('#notebook-container');\n",
       "if (notebookContainer) {{\n",
       "    x.observe(notebookContainer, {childList: true});\n",
       "}}\n",
       "\n",
       "// Listen for the clearing of the current output cell\n",
       "var outputEl = gd.closest('.output');\n",
       "if (outputEl) {{\n",
       "    x.observe(outputEl, {childList: true});\n",
       "}}\n",
       "\n",
       "                        })                };                });            </script>        </div>"
      ]
     },
     "metadata": {},
     "output_type": "display_data"
    }
   ],
   "source": [
    "# data\n",
    "label = [\"Leonie Master Student Geoinformatics\",      #0\n",
    "         \"Skills\", \"Experience\", \"Education\",    #1, 2, 3\n",
    "         \"Expertise\", \"Programming Languages\", \"Tools\",   #4, 5, 6\n",
    "         \"swa Netze GmbH\", \"dlr e.V.\",   #7, 8,\n",
    "         \"M.Sc.\", \"B.Sc.\",   #9, 10\n",
    "         \"Data Visualization\", \"Data Analysis\", \"Geospatial Data\", \"Time Series\",   #11, 12, 13, 14\n",
    "         \"Python\", \"R\", \"Java\", \"C\",   #15, 16, 17, 18\n",
    "         \"ArcGIS\", \"QGIS\", \"RIWA GIS\", \"AutoCAD\", \"MS Office\",  #19, 20, 21, 22, 23\n",
    "         \"Working Student\", \"Intern\",   #24, 25\n",
    "         \"Geodata analysis\", \"ABM\",   #26, 27\n",
    "         \"Geoinformatics\", \"Computer Science\", \"Geography\", \"GIS\", \"Remote Sensing\",   #28, 29, 30, 31, 32\n",
    "         \"Digitization and vectorization\", \"GIS migration process\", \"cadastral plan\", \"Electricity documentation\",   #33, 34, 35, 36\n",
    "         \"Processing optical satellite data in GIS\", \"Python vehicle speeds\", \"data extraction\", \"Annotation optical satellite image data\",   #37, 38, 39, 40\n",
    "         ]\n",
    "\n",
    "source = [0, 0, 0,             #von Leonie -> Education, Skills, Experience\n",
    "         1, 1, 1,              #von Skills -> Expertise, Programming, Tools\n",
    "         2, 2,                 #von Experience -> swa, dlr\n",
    "         3, 3,                 #von Education -> M.Sc., B.Sc.\n",
    "         4, 4, 4, 4,           #von Expertise -> Data, Data, CV, Time\n",
    "         5, 5, 5, 5,           #von Programming -> Python, R, Java, C\n",
    "         6, 6, 6, 6, 6,        #von Tools -> ArcGIS, QGIS, RIWA, AutoCAD, MS\n",
    "         7,                    #von swa -> Working\n",
    "         8,                    #von dlr -> Intern\n",
    "         9, 9,                 #von MSc ->ABM\n",
    "         10, 10, 10, 10, 10,   #von BSc -> Geoinf, Inf, Geo\n",
    "         24, 24, 24, 24,       #von working student -> 33, 34, 35, 36\n",
    "         25, 25, 25, 25,       #von intern -> 37, 38, 39, 40\n",
    "         ]\n",
    "target = [1, \n",
    "          2, \n",
    "          3, \n",
    "          4, 5, 6,\n",
    "          7, 8,\n",
    "          9, 10,\n",
    "          11, 12, 13, 14,      #von Expertise abgehend\n",
    "          15, 16, 17, 18,      #von Programming abgehend\n",
    "          19, 20, 21, 22, 23,  #von Tools abgehend\n",
    "          24,                  #von swa abgehend\n",
    "          25,                  #von dlr abgehend\n",
    "          26, 27,              #von MSC abgehend\n",
    "          28, 29, 30, 31, 32,  #von BSC abgehend\n",
    "          33, 34, 35, 36,      #von working abgehend\n",
    "          37, 38, 39, 40,      #von intern abgehend\n",
    "         ]\n",
    "value = [26, 16, 16, \n",
    "         8, 8, 10, 8, 8, 6, 10, \n",
    "         2, 2, 2, 2, \n",
    "         3, 2, 2, 2, \n",
    "         2, 2, 2, 2, 2, \n",
    "         8, 8, \n",
    "         4, 2, \n",
    "         2, 2, 2, 2, 2, 2, 2,\n",
    "         2, 2, 2, 2,\n",
    "         2, 2, 2, 2]\n",
    "\n",
    "color_node = [\n",
    "              \"#d51961\", #pink\n",
    "              \"#9acd32\", #grün\n",
    "              \"#f25918\", #orange\n",
    "              \"#bf1657\", \"#d92f70\", \"#7f0f3a\",   #pink\n",
    "              \"#8ab82d\", \"#a4d246\",   #grün\n",
    "              \"#d95015\", \"#f3692f\",   #orange\n",
    "              \"#c52d67\", \"#cb4478\", \"#d25b89\", \"#d8739a\",      #von Expertise abgehend, pink1\n",
    "              \"#dc437e\", \"#e0588c\", \"#e46d9a\", \"#e882a9\",      #von Programming abgehend, pink2\n",
    "              \"#8b264d\", \"#983e61\", \"#a55775\", \"#b26f88\", \"#bf879c\",  #von Tools abgehend, pink3\n",
    "              \"#95bf42\",                  #von swa abgehend, grün1\n",
    "              \"#add658\",                  #von dlr abgehend, grün2\n",
    "              \"#dc612c\", \"#e07243\",              #von MSC abgehend, orange1\n",
    "              \"#f47843\", \"#f58758\", \"#f6966d\", \"#f7a582\", \"#f9b497\",   #von BSC abgehend, orange2\n",
    "              \"#9fc554\", \"#aacb67\", \"#b4d27a\", \"#bfd88d\",       #von working student -> 33, 34, 35, 36\n",
    "              \"#b5da68\", \"#bdde79\", \"#c5e28a\", \"#cde69a\",       #von intern -> 37, 38, 39, 40\n",
    "            ]\n",
    "\n",
    "color_link = [\n",
    "                 \"#d51961\", \"#9acd32\", \"#f25918\", \n",
    "                 \"#bf1657\", \"#d92f70\", \"#7f0f3a\", \"#8ab82d\", \"#a4d246\", \"#d95015\", \"#f3692f\",  #3xpink, 2xgrün, 2xorange\n",
    "                 \"#c52d67\", \"#cb4478\", \"#d25b89\", \"#d8739a\",      #von Expertise abgehend, pink1\n",
    "                 \"#dc437e\", \"#e0588c\", \"#e46d9a\", \"#e882a9\",      #von Programming abgehend, pink2\n",
    "                 \"#8b264d\", \"#983e61\", \"#a55775\", \"#b26f88\", \"#bf879c\",  #von Tools abgehend, pink3\n",
    "                 \"#95bf42\", \"#add658\",       #von swa abgehend, grün1, von dlr abgehend, grün2\n",
    "                 \"#dc612c\", \"#e07243\",              #von MSC abgehend, orange1 \n",
    "                 \"#f47843\", \"#f58758\", \"#f6966d\", \"#f7a582\", \"#f9b497\",   #von BSC abgehend, orange2\n",
    "                 \"#9fc554\", \"#aacb67\", \"#b4d27a\", \"#bfd88d\",       #von working student -> 33, 34, 35, 36\n",
    "                 \"#b5da68\", \"#bdde79\", \"#c5e28a\", \"#cde69a\",       #von intern -> 37, 38, 39, 40\n",
    "            ]\n",
    "\n",
    "# data to dict, dict to sankey\n",
    "link = dict(source = source, target = target, value = value, color=color_link)\n",
    "#\n",
    "node = dict(label = label, pad=15, thickness=15, line = dict(color = \"black\", width = 0.5), color=color_node)\n",
    "data = go.Sankey(link = link, node=node)\n",
    "\n",
    "# plot\n",
    "fig = go.Figure(data)\n",
    "fig.show()"
   ]
  },
  {
   "cell_type": "code",
   "execution_count": 133,
   "id": "e55e8c63-6345-46b6-82f9-68ba6e4f2f07",
   "metadata": {},
   "outputs": [],
   "source": [
    "fig.write_html('myfig.html') # save figure"
   ]
  },
  {
   "cell_type": "code",
   "execution_count": 134,
   "id": "75a2fead-80a3-4f8f-bf54-60bf844d6ccd",
   "metadata": {},
   "outputs": [],
   "source": [
    "username = 'geonie' # your username\n",
    "api_key = 'J8bYwEceAjLHzQ4hcShv' # your api key - go to profile > settings > regenerate key\n",
    "chart_studio.tools.set_credentials_file(username=username, api_key=api_key)"
   ]
  },
  {
   "cell_type": "code",
   "execution_count": 135,
   "id": "24aa6257-0c42-44a5-9ea9-8befb3567617",
   "metadata": {},
   "outputs": [
    {
     "data": {
      "text/plain": [
       "'https://plotly.com/~geonie/1/'"
      ]
     },
     "execution_count": 135,
     "metadata": {},
     "output_type": "execute_result"
    }
   ],
   "source": [
    "import chart_studio.plotly as py\n",
    "py.plot(fig, filename = 'sankey', auto_open=True)"
   ]
  },
  {
   "cell_type": "code",
   "execution_count": null,
   "id": "d30df9f7-78f4-4082-9173-d72486e7ddc4",
   "metadata": {},
   "outputs": [],
   "source": []
  }
 ],
 "metadata": {
  "kernelspec": {
   "display_name": "Python 3 (ipykernel)",
   "language": "python",
   "name": "python3"
  },
  "language_info": {
   "codemirror_mode": {
    "name": "ipython",
    "version": 3
   },
   "file_extension": ".py",
   "mimetype": "text/x-python",
   "name": "python",
   "nbconvert_exporter": "python",
   "pygments_lexer": "ipython3",
   "version": "3.9.12"
  }
 },
 "nbformat": 4,
 "nbformat_minor": 5
}
