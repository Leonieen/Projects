{
 "cells": [
  {
   "cell_type": "code",
   "execution_count": 78,
   "id": "1f319303-5fe9-4026-81af-f6fc9155abab",
   "metadata": {},
   "outputs": [],
   "source": [
    "import cv2 as cv\n",
    "import numpy as np\n",
    "import plotly.express as px\n",
    "from IPython.display import Image\n",
    "from matplotlib import pyplot as plt\n",
    "from IPython.display import display             \n",
    "import ipywidgets as widgets                   \n",
    "from ipywidgets import interact, Layout    \n",
    "from IPython.display import Image\n",
    "import os\n",
    "import folium\n",
    "import io\n",
    "from folium.plugins import MousePosition\n",
    "from PIL import Image\n",
    "from geopy.geocoders import Nominatim\n",
    "geolocator = Nominatim(user_agent=\"GIVE-A-NAME-HERE-app\", timeout=2)"
   ]
  },
  {
   "cell_type": "code",
   "execution_count": 79,
   "id": "4a77ea10-2f87-47da-92fd-6ac108163a03",
   "metadata": {},
   "outputs": [],
   "source": [
    "def set_bgr(chosen_bgr):\n",
    "    bgr_s = np.array([223, 211, 171])\n",
    "    if chosen_bgr == 'water_bgr':\n",
    "        bgr_s = water_bgr\n",
    "    elif chosen_bgr == 'motorway_bgr':\n",
    "        bgr_s = motorway_bgr\n",
    "    elif chosen_bgr == 'federal_bgr':\n",
    "        bgr_s = federal_bgr\n",
    "    elif chosen_bgr == 'forest_bgr':\n",
    "        bgr_s = forest_bgr\n",
    "    elif chosen_bgr == 'settlement_bgr':\n",
    "        bgr_s = settlement_bgr\n",
    "    return bgr_s"
   ]
  },
  {
   "cell_type": "code",
   "execution_count": 80,
   "id": "f15a5498-5c0c-44b3-8954-3e6118802d96",
   "metadata": {},
   "outputs": [],
   "source": [
    "# Color [blue green red]\n",
    "water_bgr = np.array([223, 211, 171])\n",
    "upper = np.array([233, 221, 181])\n",
    "lower = np.array([213, 201, 161])\n",
    "motorway_bgr = np.array([139, 112, 229])\n",
    "federal_bgr = np.array([146, 204, 243])\n",
    "forest_bgr = np.array([177, 218, 189])\n",
    "settlement_bgr = np.array([217,217,217])\n",
    "BGR = settlement_bgr\n",
    "upper = BGR + 10\n",
    "lower = BGR - 10"
   ]
  },
  {
   "cell_type": "code",
   "execution_count": null,
   "id": "b0db357d-7601-4882-9492-80828dfc3e59",
   "metadata": {},
   "outputs": [],
   "source": [
    "#Input Location, Enter with Enter Key\n",
    "pos = input()\n",
    "print(pos)"
   ]
  },
  {
   "cell_type": "code",
   "execution_count": null,
   "id": "c86e65c7-bd23-4d3f-8889-b32f26911778",
   "metadata": {},
   "outputs": [],
   "source": [
    "location = geolocator.geocode(pos)\n",
    "lat = location.latitude\n",
    "lon = location.longitude"
   ]
  },
  {
   "cell_type": "code",
   "execution_count": null,
   "id": "0e82076e-85ba-40e9-8393-dfd1f377d16d",
   "metadata": {},
   "outputs": [],
   "source": [
    "#Input Zoom, Enter with Enter Key\n",
    "zoom = input()\n",
    "print(zoom)"
   ]
  },
  {
   "cell_type": "code",
   "execution_count": null,
   "id": "d255e8d6-b5f8-476f-bb77-6b26f02cf734",
   "metadata": {},
   "outputs": [],
   "source": [
    "m = folium.Map(location=[lat, lon],\n",
    "               tiles=f\"https://api.mapbox.com/styles/v1/geonie/ckwncbbrd0yrr14s9jxw55m7f/tiles/256/{{z}}/{{x}}/{{y}}@2x?access_token=pk.eyJ1IjoiZ2VvbmllIiwiYSI6ImNrd25ieHlvczJpbngycG52djFybmpwbmoifQ.IipoXG1Ioqw4iGxjGeXLWA\",\n",
    "               attr='My Data Attribution',\n",
    "               zoom_start=zoom\n",
    ")\n",
    "folium.TileLayer('openstreetmap').add_to(m)\n",
    "m"
   ]
  },
  {
   "cell_type": "code",
   "execution_count": null,
   "id": "88916212-e279-4667-bd55-bd79ec5afa3e",
   "metadata": {},
   "outputs": [],
   "source": [
    "#Input one of: water_bgr, motorway_bgr, federal_bgr, forest_bgr, settlement_bgr\n",
    "#Enter with Enter Key\n",
    "classification = input()\n",
    "print(classification)"
   ]
  },
  {
   "cell_type": "code",
   "execution_count": null,
   "id": "563f4c01-4d04-4a59-abc2-0c0b4c7fc687",
   "metadata": {},
   "outputs": [],
   "source": [
    "BGR = set_bgr(classification)\n",
    "upper = BGR + 10\n",
    "lower = BGR - 10"
   ]
  },
  {
   "cell_type": "code",
   "execution_count": null,
   "id": "6a89788f-ec61-49cf-bfcc-ffed8acd0479",
   "metadata": {},
   "outputs": [],
   "source": [
    "img_data = m._to_png(5)\n",
    "img = Image.open(io.BytesIO(img_data))\n",
    "img.save('image1.png')"
   ]
  },
  {
   "cell_type": "code",
   "execution_count": null,
   "id": "c46fec54-4430-4172-a67a-82ec5b9f68da",
   "metadata": {},
   "outputs": [],
   "source": [
    "def read_image(path):\n",
    "    return cv.imread(path)\n",
    "\n",
    "def find_mask(image):\n",
    "    return cv.inRange(image, lower, upper)"
   ]
  },
  {
   "cell_type": "code",
   "execution_count": null,
   "id": "70c6b8a8-dc99-48d6-b292-1382f9f45e2e",
   "metadata": {},
   "outputs": [],
   "source": [
    "if __name__ == \"__main__\":\n",
    "    image = read_image(\"image1.png\")\n",
    "    key = cv.waitKey(0)"
   ]
  },
  {
   "cell_type": "code",
   "execution_count": null,
   "id": "152320e3-6dc8-484c-96b9-d117fec98e18",
   "metadata": {},
   "outputs": [],
   "source": [
    "if __name__ == \"__main__\":\n",
    "    image = read_image(\"image1.png\")\n",
    "    mask = find_mask(image)\n",
    "    plt.imshow(mask)\n",
    "    plt.title('Mask')\n",
    "    plt.show() "
   ]
  },
  {
   "cell_type": "code",
   "execution_count": null,
   "id": "c6966864-2322-41a1-918c-f34efd8d6eef",
   "metadata": {},
   "outputs": [],
   "source": [
    "def find_contours(mask):\n",
    "    cnts, hierarchy = cv.findContours(\n",
    "            mask.copy(), cv.RETR_EXTERNAL, cv.CHAIN_APPROX_SIMPLE)\n",
    "    print(\"Found %d shapes\" % (len(cnts)))\n",
    "    return cnts"
   ]
  },
  {
   "cell_type": "code",
   "execution_count": null,
   "id": "5ebacefa-88f4-408d-928d-bfceef973b8d",
   "metadata": {},
   "outputs": [],
   "source": [
    "def show_contours(contours, image):\n",
    "    cv.drawContours(image, contours, -1, (0, 0, 255), 2)\n",
    "    plt.imshow(image)\n",
    "    plt.title('Contours')\n",
    "    plt.show()"
   ]
  },
  {
   "cell_type": "code",
   "execution_count": null,
   "id": "170803d8-76aa-4101-bbf2-2e83632ff1e4",
   "metadata": {},
   "outputs": [],
   "source": [
    "contours = find_contours(mask)\n",
    "show_contours(contours, image)"
   ]
  },
  {
   "cell_type": "code",
   "execution_count": 43,
   "id": "f9b1f313-3748-44e2-bb36-4cea1a26737e",
   "metadata": {},
   "outputs": [],
   "source": []
  },
  {
   "cell_type": "code",
   "execution_count": 33,
   "id": "5ac19471-36c7-4301-a86c-d88ec67387a2",
   "metadata": {},
   "outputs": [],
   "source": []
  },
  {
   "cell_type": "code",
   "execution_count": null,
   "id": "930a3662-eac1-4747-88f8-0233f42f3478",
   "metadata": {},
   "outputs": [],
   "source": []
  },
  {
   "cell_type": "code",
   "execution_count": null,
   "id": "0b788577-4612-49f2-be5f-6dd2943e1b37",
   "metadata": {},
   "outputs": [],
   "source": []
  }
 ],
 "metadata": {
  "kernelspec": {
   "display_name": "Python 3 (ipykernel)",
   "language": "python",
   "name": "python3"
  },
  "language_info": {
   "codemirror_mode": {
    "name": "ipython",
    "version": 3
   },
   "file_extension": ".py",
   "mimetype": "text/x-python",
   "name": "python",
   "nbconvert_exporter": "python",
   "pygments_lexer": "ipython3",
   "version": "3.9.12"
  }
 },
 "nbformat": 4,
 "nbformat_minor": 5
}
